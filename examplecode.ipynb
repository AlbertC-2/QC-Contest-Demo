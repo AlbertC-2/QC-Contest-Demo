{
  "cells": [
    {
      "cell_type": "markdown",
      "source": [
        "# Example Code for Estimating the Ground State Energy of Hydroxyl (·OH)"
      ],
      "metadata": {
        "id": "gj3jZbCBSn71"
      }
    },
    {
      "cell_type": "markdown",
      "source": [
        "## Basic Installation"
      ],
      "metadata": {
        "id": "54NH9S1vHrq8"
      }
    },
    {
      "cell_type": "markdown",
      "source": [
        "Install required package, we highly recommend participant to use qiskit platform, or at least participants can finish preprocessing at other platform and transfer the circuit to qiskit format, since our noise model is from IBM real machine backend and we restricted some algorithmic seeds which could be varied from different platform."
      ],
      "metadata": {
        "id": "R0OZ3HZZS9Me"
      }
    },
    {
      "cell_type": "code",
      "execution_count": 1,
      "metadata": {
        "colab": {
          "base_uri": "https://localhost:8080/"
        },
        "id": "Pi-oJxidjBSw",
        "outputId": "d23754fa-04a2-4afc-fce2-cc4d90db62d4"
      },
      "outputs": [
        {
          "output_type": "stream",
          "name": "stdout",
          "text": [
            "Collecting qiskit\n",
            "  Downloading qiskit-0.44.1-py3-none-any.whl (8.2 kB)\n",
            "Collecting qiskit-terra==0.25.1 (from qiskit)\n",
            "  Downloading qiskit_terra-0.25.1-cp38-abi3-manylinux_2_17_x86_64.manylinux2014_x86_64.whl (6.1 MB)\n",
            "\u001b[2K     \u001b[90m━━━━━━━━━━━━━━━━━━━━━━━━━━━━━━━━━━━━━━━━\u001b[0m \u001b[32m6.1/6.1 MB\u001b[0m \u001b[31m12.8 MB/s\u001b[0m eta \u001b[36m0:00:00\u001b[0m\n",
            "\u001b[?25hCollecting rustworkx>=0.13.0 (from qiskit-terra==0.25.1->qiskit)\n",
            "  Downloading rustworkx-0.13.1-cp310-cp310-manylinux_2_17_x86_64.manylinux2014_x86_64.whl (2.0 MB)\n",
            "\u001b[2K     \u001b[90m━━━━━━━━━━━━━━━━━━━━━━━━━━━━━━━━━━━━━━━━\u001b[0m \u001b[32m2.0/2.0 MB\u001b[0m \u001b[31m26.9 MB/s\u001b[0m eta \u001b[36m0:00:00\u001b[0m\n",
            "\u001b[?25hRequirement already satisfied: numpy>=1.17 in /usr/local/lib/python3.10/dist-packages (from qiskit-terra==0.25.1->qiskit) (1.23.5)\n",
            "Collecting ply>=3.10 (from qiskit-terra==0.25.1->qiskit)\n",
            "  Downloading ply-3.11-py2.py3-none-any.whl (49 kB)\n",
            "\u001b[2K     \u001b[90m━━━━━━━━━━━━━━━━━━━━━━━━━━━━━━━━━━━━━━━━\u001b[0m \u001b[32m49.6/49.6 kB\u001b[0m \u001b[31m5.4 MB/s\u001b[0m eta \u001b[36m0:00:00\u001b[0m\n",
            "\u001b[?25hRequirement already satisfied: psutil>=5 in /usr/local/lib/python3.10/dist-packages (from qiskit-terra==0.25.1->qiskit) (5.9.5)\n",
            "Requirement already satisfied: scipy>=1.5 in /usr/local/lib/python3.10/dist-packages (from qiskit-terra==0.25.1->qiskit) (1.10.1)\n",
            "Requirement already satisfied: sympy>=1.3 in /usr/local/lib/python3.10/dist-packages (from qiskit-terra==0.25.1->qiskit) (1.12)\n",
            "Collecting dill>=0.3 (from qiskit-terra==0.25.1->qiskit)\n",
            "  Downloading dill-0.3.7-py3-none-any.whl (115 kB)\n",
            "\u001b[2K     \u001b[90m━━━━━━━━━━━━━━━━━━━━━━━━━━━━━━━━━━━━━━\u001b[0m \u001b[32m115.3/115.3 kB\u001b[0m \u001b[31m12.6 MB/s\u001b[0m eta \u001b[36m0:00:00\u001b[0m\n",
            "\u001b[?25hRequirement already satisfied: python-dateutil>=2.8.0 in /usr/local/lib/python3.10/dist-packages (from qiskit-terra==0.25.1->qiskit) (2.8.2)\n",
            "Collecting stevedore>=3.0.0 (from qiskit-terra==0.25.1->qiskit)\n",
            "  Downloading stevedore-5.1.0-py3-none-any.whl (49 kB)\n",
            "\u001b[2K     \u001b[90m━━━━━━━━━━━━━━━━━━━━━━━━━━━━━━━━━━━━━━━━\u001b[0m \u001b[32m49.6/49.6 kB\u001b[0m \u001b[31m4.7 MB/s\u001b[0m eta \u001b[36m0:00:00\u001b[0m\n",
            "\u001b[?25hCollecting symengine<0.10,>=0.9 (from qiskit-terra==0.25.1->qiskit)\n",
            "  Downloading symengine-0.9.2-cp310-cp310-manylinux2010_x86_64.whl (37.5 MB)\n",
            "\u001b[2K     \u001b[90m━━━━━━━━━━━━━━━━━━━━━━━━━━━━━━━━━━━━━━━━\u001b[0m \u001b[32m37.5/37.5 MB\u001b[0m \u001b[31m40.6 MB/s\u001b[0m eta \u001b[36m0:00:00\u001b[0m\n",
            "\u001b[?25hRequirement already satisfied: typing-extensions in /usr/local/lib/python3.10/dist-packages (from qiskit-terra==0.25.1->qiskit) (4.7.1)\n",
            "Requirement already satisfied: six>=1.5 in /usr/local/lib/python3.10/dist-packages (from python-dateutil>=2.8.0->qiskit-terra==0.25.1->qiskit) (1.16.0)\n",
            "Collecting pbr!=2.1.0,>=2.0.0 (from stevedore>=3.0.0->qiskit-terra==0.25.1->qiskit)\n",
            "  Downloading pbr-5.11.1-py2.py3-none-any.whl (112 kB)\n",
            "\u001b[2K     \u001b[90m━━━━━━━━━━━━━━━━━━━━━━━━━━━━━━━━━━━━━━\u001b[0m \u001b[32m112.7/112.7 kB\u001b[0m \u001b[31m12.2 MB/s\u001b[0m eta \u001b[36m0:00:00\u001b[0m\n",
            "\u001b[?25hRequirement already satisfied: mpmath>=0.19 in /usr/local/lib/python3.10/dist-packages (from sympy>=1.3->qiskit-terra==0.25.1->qiskit) (1.3.0)\n",
            "Installing collected packages: ply, symengine, rustworkx, pbr, dill, stevedore, qiskit-terra, qiskit\n",
            "Successfully installed dill-0.3.7 pbr-5.11.1 ply-3.11 qiskit-0.44.1 qiskit-terra-0.25.1 rustworkx-0.13.1 stevedore-5.1.0 symengine-0.9.2\n",
            "Collecting qiskit-nature[pyscf]\n",
            "  Downloading qiskit_nature-0.6.2-py3-none-any.whl (4.1 MB)\n",
            "\u001b[2K     \u001b[90m━━━━━━━━━━━━━━━━━━━━━━━━━━━━━━━━━━━━━━━━\u001b[0m \u001b[32m4.1/4.1 MB\u001b[0m \u001b[31m12.1 MB/s\u001b[0m eta \u001b[36m0:00:00\u001b[0m\n",
            "\u001b[?25hRequirement already satisfied: qiskit-terra>=0.24 in /usr/local/lib/python3.10/dist-packages (from qiskit-nature[pyscf]) (0.25.1)\n",
            "Requirement already satisfied: scipy>=1.4 in /usr/local/lib/python3.10/dist-packages (from qiskit-nature[pyscf]) (1.10.1)\n",
            "Requirement already satisfied: numpy>=1.17 in /usr/local/lib/python3.10/dist-packages (from qiskit-nature[pyscf]) (1.23.5)\n",
            "Requirement already satisfied: psutil>=5 in /usr/local/lib/python3.10/dist-packages (from qiskit-nature[pyscf]) (5.9.5)\n",
            "Requirement already satisfied: scikit-learn>=0.20.0 in /usr/local/lib/python3.10/dist-packages (from qiskit-nature[pyscf]) (1.2.2)\n",
            "Requirement already satisfied: setuptools>=40.1.0 in /usr/local/lib/python3.10/dist-packages (from qiskit-nature[pyscf]) (67.7.2)\n",
            "Requirement already satisfied: typing-extensions in /usr/local/lib/python3.10/dist-packages (from qiskit-nature[pyscf]) (4.7.1)\n",
            "Requirement already satisfied: h5py in /usr/local/lib/python3.10/dist-packages (from qiskit-nature[pyscf]) (3.9.0)\n",
            "Requirement already satisfied: rustworkx in /usr/local/lib/python3.10/dist-packages (from qiskit-nature[pyscf]) (0.13.1)\n",
            "Collecting pyscf (from qiskit-nature[pyscf])\n",
            "  Downloading pyscf-2.3.0-cp310-cp310-manylinux_2_17_x86_64.manylinux2014_x86_64.whl (47.2 MB)\n",
            "\u001b[2K     \u001b[90m━━━━━━━━━━━━━━━━━━━━━━━━━━━━━━━━━━━━━━━━\u001b[0m \u001b[32m47.2/47.2 MB\u001b[0m \u001b[31m10.1 MB/s\u001b[0m eta \u001b[36m0:00:00\u001b[0m\n",
            "\u001b[?25hRequirement already satisfied: ply>=3.10 in /usr/local/lib/python3.10/dist-packages (from qiskit-terra>=0.24->qiskit-nature[pyscf]) (3.11)\n",
            "Requirement already satisfied: sympy>=1.3 in /usr/local/lib/python3.10/dist-packages (from qiskit-terra>=0.24->qiskit-nature[pyscf]) (1.12)\n",
            "Requirement already satisfied: dill>=0.3 in /usr/local/lib/python3.10/dist-packages (from qiskit-terra>=0.24->qiskit-nature[pyscf]) (0.3.7)\n",
            "Requirement already satisfied: python-dateutil>=2.8.0 in /usr/local/lib/python3.10/dist-packages (from qiskit-terra>=0.24->qiskit-nature[pyscf]) (2.8.2)\n",
            "Requirement already satisfied: stevedore>=3.0.0 in /usr/local/lib/python3.10/dist-packages (from qiskit-terra>=0.24->qiskit-nature[pyscf]) (5.1.0)\n",
            "Requirement already satisfied: symengine<0.10,>=0.9 in /usr/local/lib/python3.10/dist-packages (from qiskit-terra>=0.24->qiskit-nature[pyscf]) (0.9.2)\n",
            "Requirement already satisfied: joblib>=1.1.1 in /usr/local/lib/python3.10/dist-packages (from scikit-learn>=0.20.0->qiskit-nature[pyscf]) (1.3.2)\n",
            "Requirement already satisfied: threadpoolctl>=2.0.0 in /usr/local/lib/python3.10/dist-packages (from scikit-learn>=0.20.0->qiskit-nature[pyscf]) (3.2.0)\n",
            "Requirement already satisfied: six>=1.5 in /usr/local/lib/python3.10/dist-packages (from python-dateutil>=2.8.0->qiskit-terra>=0.24->qiskit-nature[pyscf]) (1.16.0)\n",
            "Requirement already satisfied: pbr!=2.1.0,>=2.0.0 in /usr/local/lib/python3.10/dist-packages (from stevedore>=3.0.0->qiskit-terra>=0.24->qiskit-nature[pyscf]) (5.11.1)\n",
            "Requirement already satisfied: mpmath>=0.19 in /usr/local/lib/python3.10/dist-packages (from sympy>=1.3->qiskit-terra>=0.24->qiskit-nature[pyscf]) (1.3.0)\n",
            "Installing collected packages: pyscf, qiskit-nature\n",
            "Successfully installed pyscf-2.3.0 qiskit-nature-0.6.2\n"
          ]
        }
      ],
      "source": [
        "!pip install qiskit\n",
        "!pip install qiskit-nature[pyscf] -U"
      ]
    },
    {
      "cell_type": "code",
      "execution_count": 2,
      "metadata": {
        "colab": {
          "base_uri": "https://localhost:8080/"
        },
        "id": "-kyJUxyJzk_k",
        "outputId": "153f1581-81d4-43b0-d14e-40f75cd99e39"
      },
      "outputs": [
        {
          "output_type": "stream",
          "name": "stdout",
          "text": [
            "Collecting qiskit_aer\n",
            "  Downloading qiskit_aer-0.12.2-cp310-cp310-manylinux_2_17_x86_64.manylinux2014_x86_64.whl (12.8 MB)\n",
            "\u001b[2K     \u001b[90m━━━━━━━━━━━━━━━━━━━━━━━━━━━━━━━━━━━━━━━━\u001b[0m \u001b[32m12.8/12.8 MB\u001b[0m \u001b[31m6.8 MB/s\u001b[0m eta \u001b[36m0:00:00\u001b[0m\n",
            "\u001b[?25hRequirement already satisfied: qiskit-terra>=0.21.0 in /usr/local/lib/python3.10/dist-packages (from qiskit_aer) (0.25.1)\n",
            "Requirement already satisfied: numpy>=1.16.3 in /usr/local/lib/python3.10/dist-packages (from qiskit_aer) (1.23.5)\n",
            "Requirement already satisfied: scipy>=1.0 in /usr/local/lib/python3.10/dist-packages (from qiskit_aer) (1.10.1)\n",
            "Requirement already satisfied: rustworkx>=0.13.0 in /usr/local/lib/python3.10/dist-packages (from qiskit-terra>=0.21.0->qiskit_aer) (0.13.1)\n",
            "Requirement already satisfied: ply>=3.10 in /usr/local/lib/python3.10/dist-packages (from qiskit-terra>=0.21.0->qiskit_aer) (3.11)\n",
            "Requirement already satisfied: psutil>=5 in /usr/local/lib/python3.10/dist-packages (from qiskit-terra>=0.21.0->qiskit_aer) (5.9.5)\n",
            "Requirement already satisfied: sympy>=1.3 in /usr/local/lib/python3.10/dist-packages (from qiskit-terra>=0.21.0->qiskit_aer) (1.12)\n",
            "Requirement already satisfied: dill>=0.3 in /usr/local/lib/python3.10/dist-packages (from qiskit-terra>=0.21.0->qiskit_aer) (0.3.7)\n",
            "Requirement already satisfied: python-dateutil>=2.8.0 in /usr/local/lib/python3.10/dist-packages (from qiskit-terra>=0.21.0->qiskit_aer) (2.8.2)\n",
            "Requirement already satisfied: stevedore>=3.0.0 in /usr/local/lib/python3.10/dist-packages (from qiskit-terra>=0.21.0->qiskit_aer) (5.1.0)\n",
            "Requirement already satisfied: symengine<0.10,>=0.9 in /usr/local/lib/python3.10/dist-packages (from qiskit-terra>=0.21.0->qiskit_aer) (0.9.2)\n",
            "Requirement already satisfied: typing-extensions in /usr/local/lib/python3.10/dist-packages (from qiskit-terra>=0.21.0->qiskit_aer) (4.7.1)\n",
            "Requirement already satisfied: six>=1.5 in /usr/local/lib/python3.10/dist-packages (from python-dateutil>=2.8.0->qiskit-terra>=0.21.0->qiskit_aer) (1.16.0)\n",
            "Requirement already satisfied: pbr!=2.1.0,>=2.0.0 in /usr/local/lib/python3.10/dist-packages (from stevedore>=3.0.0->qiskit-terra>=0.21.0->qiskit_aer) (5.11.1)\n",
            "Requirement already satisfied: mpmath>=0.19 in /usr/local/lib/python3.10/dist-packages (from sympy>=1.3->qiskit-terra>=0.21.0->qiskit_aer) (1.3.0)\n",
            "Installing collected packages: qiskit_aer\n",
            "Successfully installed qiskit_aer-0.12.2\n"
          ]
        }
      ],
      "source": [
        "!pip install qiskit_aer"
      ]
    },
    {
      "cell_type": "code",
      "execution_count": 23,
      "metadata": {
        "id": "Ib7BjPjxvJNk"
      },
      "outputs": [],
      "source": [
        "from qiskit_nature.units import DistanceUnit\n",
        "from qiskit_nature.second_q.drivers import PySCFDriver\n",
        "from qiskit_nature.second_q.mappers import JordanWignerMapper,ParityMapper,QubitConverter\n",
        "from qiskit.algorithms.minimum_eigensolvers import VQE\n",
        "from qiskit.algorithms.optimizers import SLSQP\n",
        "from qiskit_aer.primitives import Estimator\n",
        "from qiskit_nature.second_q.circuit.library import HartreeFock, UCCSD\n",
        "import numpy as np\n",
        "import pylab\n",
        "import qiskit.providers\n",
        "from qiskit import Aer,pulse, QuantumCircuit\n",
        "from qiskit.utils import QuantumInstance, algorithm_globals"
      ]
    },
    {
      "cell_type": "markdown",
      "source": [
        "Here we require paticipants to fix the algorithm seed in qiskit. *MUST* translate other format circuit to qiskit before any place need algorithm seed. And we give 20, 21, 30, 33, 36, 42, 43, 55, 67, 170 as seeds that requires to run, and the result will be calculated as the average of results from each seed. And please use shots as 4000."
      ],
      "metadata": {
        "id": "QRxsKX9zTc9g"
      }
    },
    {
      "cell_type": "code",
      "source": [
        "seeds = 170\n",
        "algorithm_globals.random_seed = seeds\n",
        "seed_transpiler = seeds\n",
        "iterations = 125\n",
        "shot = 4000"
      ],
      "metadata": {
        "id": "_z5kT9vNSWus"
      },
      "execution_count": 2,
      "outputs": []
    },
    {
      "cell_type": "markdown",
      "source": [
        "## Generate Hamiltonian and Pauli String"
      ],
      "metadata": {
        "id": "67IPjEJPJAWk"
      }
    },
    {
      "cell_type": "markdown",
      "source": [
        "At this step, the example code uses PySCF to generate the hamiltonian of hydroxyl with basis function as 'sto3g' to fit the spin orbital, then uses JordanWignerMapper to map the fermionic terms to pauli strings. To be noticed, other chemistry tool also allowed to be used at this step, but keep in mind to use 'sto-3g' and Jordan Wigner Mapper which should gives 12 qubits and 631 paulil terms."
      ],
      "metadata": {
        "id": "7TljW2BrJKHC"
      }
    },
    {
      "cell_type": "code",
      "execution_count": 3,
      "metadata": {
        "id": "kXSoiGtopCRX",
        "colab": {
          "base_uri": "https://localhost:8080/"
        },
        "outputId": "1c5e560f-141e-4018-a97e-8f5c20be22f3"
      },
      "outputs": [
        {
          "output_type": "stream",
          "name": "stderr",
          "text": [
            "/usr/local/lib/python3.10/dist-packages/pyscf/dft/libxc.py:772: UserWarning: Since PySCF-2.3, B3LYP (and B3P86) are changed to the VWN-RPA variant, the same to the B3LYP functional in Gaussian and ORCA (issue 1480). To restore the VWN5 definition, you can put the setting \"B3LYP_WITH_VWN5 = True\" in pyscf_conf.py\n",
            "  warnings.warn('Since PySCF-2.3, B3LYP (and B3P86) are changed to the VWN-RPA variant, '\n"
          ]
        }
      ],
      "source": [
        "ultra_simplified_ala_string = \"\"\"\n",
        "O 0.0 0.0 0.0\n",
        "H 0.45 -0.1525 -0.8454\n",
        "\"\"\"\n",
        "\n",
        "driver = PySCFDriver(\n",
        "    atom=ultra_simplified_ala_string.strip(),\n",
        "    basis='sto3g',\n",
        "    charge=1,\n",
        "    spin=0,\n",
        "    unit=DistanceUnit.ANGSTROM\n",
        ")\n",
        "qmolecule = driver.run()"
      ]
    },
    {
      "cell_type": "code",
      "execution_count": 4,
      "metadata": {
        "colab": {
          "base_uri": "https://localhost:8080/"
        },
        "id": "ojwVkSeRwTH4",
        "outputId": "127b9320-1734-4c77-e753-677181892158"
      },
      "outputs": [
        {
          "output_type": "stream",
          "name": "stdout",
          "text": [
            "Polynomial Tensor\n",
            " \"+-\":\n",
            "[[-3.21461222e+01  5.59899100e-01  1.87617178e-01  3.33659548e-16\n",
            "   8.16555038e-16 -1.94702445e-01]\n",
            " [ 5.59899100e-01 -7.35898345e+00 -2.46352634e-01 -8.92115048e-16\n",
            "  -2.69147474e-15  9.51226718e-01]\n",
            " [ 1.87617178e-01 -2.46352634e-01 -6.56995119e+00  3.21647931e-15\n",
            "   4.70241444e-15 -1.09726793e+00]\n",
            " [ 3.33752208e-16 -9.17086521e-16  3.35069276e-15 -6.94886145e+00\n",
            "  -9.86529571e-16 -1.45773318e-15]\n",
            " [ 8.19334801e-16 -2.63222381e-15  4.31569054e-15 -1.05070629e-15\n",
            "  -6.94886145e+00 -7.68897862e-15]\n",
            " [-1.94702445e-01  9.51226718e-01 -1.09726793e+00 -1.62239641e-15\n",
            "  -7.50250929e-15 -4.64967973e+00]]\n",
            " \"++--\":\n",
            "[[[[ 4.74977044e+00 -4.38465691e-01 -1.51436760e-01 -2.70572717e-16\n",
            "    -6.49186366e-16  1.59790984e-01]\n",
            "   [-4.38465691e-01  6.47204045e-02  1.84429506e-02  3.49797616e-17\n",
            "     1.01610685e-16 -2.66865302e-02]\n",
            "   [-1.51436760e-01  1.84429506e-02  2.46189939e-02 -1.18769659e-17\n",
            "    -2.34635394e-17  6.40512562e-03]\n",
            "   [-2.70689779e-16  3.49109142e-17 -1.17322102e-17  2.58536922e-02\n",
            "     2.97180721e-18  5.86297778e-18]\n",
            "   [-6.48591464e-16  1.01006673e-16 -2.60628754e-17  3.60497290e-18\n",
            "     2.58536922e-02  3.27990087e-17]\n",
            "   [ 1.59790984e-01 -2.66865302e-02  6.40512562e-03  6.31135530e-18\n",
            "     3.31006003e-17  2.11708054e-02]]\n",
            "\n",
            "  [[-4.38465691e-01  6.47204045e-02  1.84429506e-02  3.49748605e-17\n",
            "     1.01787734e-16 -2.66865302e-02]\n",
            "   [ 1.06368185e+00 -1.50469869e-02 -1.72330627e-02 -2.50799988e-17\n",
            "    -8.38635392e-18 -2.69295995e-03]\n",
            "   [ 8.78369520e-02 -9.36020789e-03  2.16452114e-02 -3.54118706e-17\n",
            "    -7.98047986e-17  2.03747148e-02]\n",
            "   [ 2.32047688e-16 -1.82285381e-17 -3.48451070e-17  3.38081759e-02\n",
            "     4.82734776e-18  3.14883558e-17]\n",
            "   [ 8.35201369e-16 -2.24596654e-17 -6.33766688e-17  5.06047093e-18\n",
            "     3.38081759e-02  1.12212191e-16]\n",
            "   [-2.42118626e-01  4.54101197e-03  1.65509332e-02  2.39611345e-17\n",
            "     9.91085616e-17  8.74204002e-03]]\n",
            "\n",
            "  [[-1.51436760e-01  1.84429506e-02  2.46189939e-02 -1.21944795e-17\n",
            "    -2.39249485e-17  6.40512562e-03]\n",
            "   [ 8.78369520e-02 -9.36020789e-03  2.16452114e-02 -3.42782201e-17\n",
            "    -7.96388519e-17  2.03747148e-02]\n",
            "   [ 9.90974245e-01 -1.31679803e-02  8.70090353e-03 -3.13847167e-17\n",
            "    -6.61921669e-17  1.41651559e-02]\n",
            "   [-6.33971646e-16  1.65393665e-17  3.78089050e-18  1.12083197e-02\n",
            "     1.49679223e-18  1.18234306e-17]\n",
            "   [-1.19902160e-15  1.79856048e-17 -1.33721570e-17  1.55883519e-18\n",
            "     1.12083197e-02  3.73885894e-17]\n",
            "   [ 2.65843254e-01 -5.34487452e-03  2.07171914e-03  2.18984172e-17\n",
            "     4.55801045e-17  4.81053325e-03]]\n",
            "\n",
            "  [[-2.70665971e-16  3.48641671e-17 -1.16791289e-17  2.58536922e-02\n",
            "     3.26831217e-18  6.27466335e-18]\n",
            "   [ 2.25058826e-16 -1.75427982e-17 -3.60707461e-17  3.38081759e-02\n",
            "     4.67639214e-18  3.19410603e-17]\n",
            "   [-6.22203861e-16  1.48663402e-17  3.26010095e-18  1.12083197e-02\n",
            "     1.43685184e-18  1.19400856e-17]\n",
            "   [ 1.11539591e+00 -1.22985373e-02 -4.28354178e-03  3.24287922e-17\n",
            "    -1.72043164e-17  4.10551212e-03]\n",
            "   [ 1.79452513e-16 -1.55892377e-18  2.19967521e-19  4.31865187e-17\n",
            "     1.97949369e-17 -3.40636264e-19]\n",
            "   [ 3.83747999e-16  1.41901089e-19  2.74531557e-17 -1.03687761e-02\n",
            "    -1.34321168e-18  7.03540213e-18]]\n",
            "\n",
            "  [[-6.48152485e-16  1.01815931e-16 -2.35424194e-17  3.06040399e-18\n",
            "     2.58536922e-02  3.10468842e-17]\n",
            "   [ 8.48173017e-16 -2.18734141e-17 -6.55509535e-17  4.73700684e-18\n",
            "     3.38081759e-02  1.07080131e-16]\n",
            "   [-1.24419926e-15  1.54503439e-17 -1.47645126e-17  1.62302240e-18\n",
            "     1.12083197e-02  3.93060602e-17]\n",
            "   [ 1.97681811e-16 -1.64485285e-18  2.69364589e-19  4.31768216e-17\n",
            "     1.97934959e-17 -3.82703693e-19]\n",
            "   [ 1.11539591e+00 -1.22985373e-02 -4.28354178e-03 -7.71373679e-18\n",
            "     6.90262501e-17  4.10551212e-03]\n",
            "   [ 1.25920023e-15 -1.30328282e-17  6.01032131e-17 -1.50975155e-18\n",
            "    -1.03687761e-02  5.92758488e-18]]\n",
            "\n",
            "  [[ 1.59790984e-01 -2.66865302e-02  6.40512562e-03  6.68340634e-18\n",
            "     3.20301676e-17  2.11708054e-02]\n",
            "   [-2.42118626e-01  4.54101197e-03  1.65509332e-02  2.59433063e-17\n",
            "     9.79343326e-17  8.74204002e-03]\n",
            "   [ 2.65843254e-01 -5.34487452e-03  2.07171914e-03  2.18217994e-17\n",
            "     4.51262893e-17  4.81053325e-03]\n",
            "   [ 3.93750058e-16 -4.05536338e-18  2.56788914e-17 -1.03687761e-02\n",
            "    -1.60154288e-18  6.54695921e-18]\n",
            "   [ 1.38547668e-15 -2.67932222e-17  5.47433401e-17 -1.39624550e-18\n",
            "    -1.03687761e-02  1.80528147e-17]\n",
            "   [ 7.34481338e-01 -5.21692816e-03 -1.59999430e-02 -2.53611231e-17\n",
            "    -6.26935820e-17 -8.28037465e-03]]]\n",
            "\n",
            "\n",
            " [[[-4.38465691e-01  1.06368185e+00  8.78369520e-02  2.29848461e-16\n",
            "     7.96861064e-16 -2.42118626e-01]\n",
            "   [ 6.47204045e-02 -1.50469869e-02 -9.36020789e-03 -1.48882594e-17\n",
            "    -2.67636631e-17  4.54101197e-03]\n",
            "   [ 1.84429506e-02 -1.72330627e-02  2.16452114e-02 -3.45033034e-17\n",
            "    -6.79493975e-17  1.65509332e-02]\n",
            "   [ 3.50193344e-17 -2.54038767e-17 -3.37581218e-17  3.38081759e-02\n",
            "     4.17363471e-18  2.54684319e-17]\n",
            "   [ 1.01006673e-16 -7.95258750e-18 -7.75638930e-17  4.21976788e-18\n",
            "     3.38081759e-02  1.01038287e-16]\n",
            "   [-2.66865302e-02 -2.69295995e-03  2.03747148e-02  3.08553539e-17\n",
            "     1.14584026e-16  8.74204002e-03]]\n",
            "\n",
            "  [[ 6.47204045e-02 -1.50469869e-02 -9.36020789e-03 -1.59250766e-17\n",
            "    -2.04651269e-17  4.54101197e-03]\n",
            "   [-1.50469869e-02  7.82246148e-01 -2.82736344e-02  2.49998203e-17\n",
            "     2.90807114e-16 -1.20862414e-01]\n",
            "   [-9.36020789e-03 -2.82736344e-02  1.38461310e-01 -9.66277312e-17\n",
            "    -7.23879430e-17  2.11790621e-02]\n",
            "   [-1.54415987e-17  2.16431625e-17 -8.82959858e-17  1.56942623e-01\n",
            "     2.43746968e-17  2.18189339e-17]\n",
            "   [-2.26400887e-17  2.94763187e-16 -8.27760406e-17  2.29302714e-17\n",
            "     1.56942623e-01  2.38992638e-16]\n",
            "   [ 4.54101197e-03 -1.20862414e-01  2.11790621e-02  2.75663636e-17\n",
            "     2.29595145e-16  8.19731113e-02]]\n",
            "\n",
            "  [[ 1.84429506e-02 -1.72330627e-02  2.16452114e-02 -3.45493241e-17\n",
            "    -6.43755714e-17  1.65509332e-02]\n",
            "   [-9.36020789e-03 -2.82736344e-02  1.38461310e-01 -9.23837921e-17\n",
            "    -7.54561931e-17  2.11790621e-02]\n",
            "   [-1.31679803e-02  7.08160916e-01  6.20624861e-02 -1.06124536e-17\n",
            "     5.69883030e-17 -5.09591903e-02]\n",
            "   [ 4.65857541e-18 -4.21999451e-16 -7.34663751e-17  4.03035161e-02\n",
            "     4.98286846e-18  1.66289622e-16]\n",
            "   [ 1.68126224e-17 -3.44727807e-16 -2.66652319e-16  2.45349707e-18\n",
            "     4.03035161e-02  3.85596588e-16]\n",
            "   [-5.34487452e-03  1.01782960e-01  6.86961222e-02  1.83719457e-16\n",
            "     5.24187420e-16 -6.06860239e-02]]\n",
            "\n",
            "  [[ 3.47696650e-17 -2.51423271e-17 -3.50307240e-17  3.38081759e-02\n",
            "     4.09712592e-18  2.67916898e-17]\n",
            "   [-1.45325966e-17  2.03795990e-17 -8.97848450e-17  1.56942623e-01\n",
            "     2.39260896e-17  2.76943474e-17]\n",
            "   [ 2.25046959e-18 -3.93770381e-16 -7.30285482e-17  4.03035161e-02\n",
            "     3.76292717e-18  1.78297446e-16]\n",
            "   [-1.22985373e-02  7.77829097e-01  4.78181725e-02  2.89582895e-16\n",
            "     3.92936191e-16 -1.21924948e-01]\n",
            "   [-1.88109066e-18  9.80578489e-17  6.26740871e-18  1.66449792e-16\n",
            "     6.98479457e-17 -1.12035972e-17]\n",
            "   [-1.24661557e-18  1.46129430e-16  2.02885193e-16 -4.16508161e-02\n",
            "    -9.73778977e-18 -1.20818077e-16]]\n",
            "\n",
            "  [[ 1.01484452e-16 -9.30355231e-18 -7.41739144e-17  4.06632562e-18\n",
            "     3.38081759e-02  9.77338423e-17]\n",
            "   [-2.30736302e-17  2.70636377e-16 -8.16790762e-17  2.22498087e-17\n",
            "     1.56942623e-01  2.22652223e-16]\n",
            "   [ 1.81971497e-17 -2.95192722e-16 -2.77829649e-16  2.16553712e-18\n",
            "     4.03035161e-02  3.78410611e-16]\n",
            "   [-1.79931673e-18  9.41339740e-17  5.55211274e-18  1.67361482e-16\n",
            "     6.97708046e-17 -1.02074063e-17]\n",
            "   [-1.22985373e-02  7.77829097e-01  4.78181725e-02  1.32055973e-16\n",
            "     7.07247003e-16 -1.21924948e-01]\n",
            "   [-2.76567554e-17  5.82001605e-16  6.43265577e-16 -1.15681268e-17\n",
            "    -4.16508161e-02 -5.31880409e-16]]\n",
            "\n",
            "  [[-2.66865302e-02 -2.69295995e-03  2.03747148e-02  3.20066684e-17\n",
            "     1.11025436e-16  8.74204002e-03]\n",
            "   [ 4.54101197e-03 -1.20862414e-01  2.11790621e-02  1.96340674e-17\n",
            "     2.30643485e-16  8.19731113e-02]\n",
            "   [-5.34487452e-03  1.01782960e-01  6.86961222e-02  1.85450486e-16\n",
            "     5.50427792e-16 -6.06860239e-02]\n",
            "   [-9.08714116e-18  1.18166100e-16  1.99712714e-16 -4.16508161e-02\n",
            "    -1.39432090e-17 -9.57249155e-17]\n",
            "   [-2.90344608e-17  5.74495366e-16  6.43570527e-16 -1.13479818e-17\n",
            "    -4.16508161e-02 -5.40977482e-16]\n",
            "   [-5.21692816e-03  6.12883783e-01 -9.90962252e-02 -1.20237979e-16\n",
            "    -3.81340501e-16 -1.95498046e-02]]]\n",
            "\n",
            "\n",
            " [[[-1.51436760e-01  8.78369520e-02  9.90974245e-01 -6.55887953e-16\n",
            "    -9.86317183e-16  2.65843254e-01]\n",
            "   [ 1.84429506e-02 -9.36020789e-03 -1.31679803e-02  3.05943499e-18\n",
            "     2.40817736e-17 -5.34487452e-03]\n",
            "   [ 2.46189939e-02  2.16452114e-02  8.70090353e-03  1.28647797e-18\n",
            "    -5.48062974e-18  2.07171914e-03]\n",
            "   [-1.25995720e-17 -3.29457681e-17 -3.19256246e-17  1.12083197e-02\n",
            "     1.17890009e-18  2.16021670e-17]\n",
            "   [-2.95323224e-17 -7.94052512e-17 -6.70366566e-17  1.25583115e-18\n",
            "     1.12083197e-02  4.82792139e-17]\n",
            "   [ 6.40512562e-03  2.03747148e-02  1.41651559e-02  9.59748616e-18\n",
            "     3.16263132e-17  4.81053325e-03]]\n",
            "\n",
            "  [[ 1.84429506e-02 -9.36020789e-03 -1.31679803e-02  2.99094411e-18\n",
            "     2.48086059e-17 -5.34487452e-03]\n",
            "   [-1.72330627e-02 -2.82736344e-02  7.08160916e-01 -4.08292068e-16\n",
            "    -3.42097723e-16  1.01782960e-01]\n",
            "   [ 2.16452114e-02  1.38461310e-01  6.20624861e-02 -8.29608844e-17\n",
            "    -2.11781820e-16  6.86961222e-02]\n",
            "   [-3.39777453e-17 -9.17654327e-17 -2.18106302e-17  4.03035161e-02\n",
            "     2.08438886e-19  1.92179372e-16]\n",
            "   [-6.16419453e-17 -8.27760406e-17  8.53338072e-17  4.71703561e-19\n",
            "     4.03035161e-02  5.11569562e-16]\n",
            "   [ 1.65509332e-02  2.11790621e-02 -5.09591903e-02  1.62011868e-16\n",
            "     3.22236844e-16 -6.06860239e-02]]\n",
            "\n",
            "  [[ 2.46189939e-02  2.16452114e-02  8.70090353e-03  1.68153956e-18\n",
            "    -7.59577888e-18  2.07171914e-03]\n",
            "   [ 2.16452114e-02  1.38461310e-01  6.20624861e-02 -8.16537816e-17\n",
            "    -2.25980092e-16  6.86961222e-02]\n",
            "   [ 8.70090353e-03  6.20624861e-02  7.76790044e-01 -3.87666728e-16\n",
            "    -4.94736035e-16  1.24533083e-01]\n",
            "   [ 1.32608772e-18 -7.76931677e-17 -3.81421665e-16  5.15571898e-02\n",
            "     2.50166803e-17 -8.26701693e-17]\n",
            "   [-8.84159563e-18 -2.62969603e-16 -5.60399303e-16  2.21322660e-17\n",
            "     5.15571898e-02 -2.91236796e-16]\n",
            "   [ 2.07171914e-03  6.86961222e-02  1.24533083e-01 -9.30536813e-17\n",
            "    -3.18727894e-16  1.22969373e-01]]\n",
            "\n",
            "  [[-1.20906736e-17 -3.52430292e-17 -3.16709857e-17  1.12083197e-02\n",
            "     1.29823870e-18  2.16960554e-17]\n",
            "   [-3.40819328e-17 -9.92535450e-17 -2.03660983e-17  4.03035161e-02\n",
            "     1.02737403e-18  1.94340151e-16]\n",
            "   [ 6.05269547e-19 -8.13542241e-17 -3.72092045e-16  5.15571898e-02\n",
            "     2.63945836e-17 -8.10731896e-17]\n",
            "   [-4.28354178e-03  4.78181725e-02  7.25741700e-01 -4.83878194e-16\n",
            "    -4.46251535e-16  1.36326286e-01]\n",
            "   [-2.37932430e-19  2.77130307e-18  1.15018788e-16 -2.59498212e-17\n",
            "     8.57811070e-18  1.66347628e-17]\n",
            "   [ 2.75052785e-17  2.03112634e-16  1.53578181e-16  7.58596288e-03\n",
            "     2.30751407e-17  1.49297044e-16]]\n",
            "\n",
            "  [[-2.69625189e-17 -7.56813789e-17 -6.42024837e-17  1.33318663e-18\n",
            "     1.12083197e-02  4.44041782e-17]\n",
            "   [-6.64197866e-17 -7.25062437e-17  9.45986196e-17  2.02807383e-18\n",
            "     4.03035161e-02  5.23934087e-16]\n",
            "   [-9.98812622e-18 -2.57668414e-16 -6.15295849e-16  2.14280948e-17\n",
            "     5.15571898e-02 -2.77562006e-16]\n",
            "   [-1.04028104e-19  2.57135470e-18  1.30795445e-16 -2.92261629e-17\n",
            "     8.87264239e-18  1.46518218e-17]\n",
            "   [-4.28354178e-03  4.78181725e-02  7.25741700e-01 -4.02017243e-16\n",
            "    -4.61565385e-16  1.36326286e-01]\n",
            "   [ 5.26270790e-17  6.51351791e-16  3.67357920e-16  1.88581431e-17\n",
            "     7.58596288e-03  8.34683342e-16]]\n",
            "\n",
            "  [[ 6.40512562e-03  2.03747148e-02  1.41651559e-02  9.69127272e-18\n",
            "     3.59115633e-17  4.81053325e-03]\n",
            "   [ 1.65509332e-02  2.11790621e-02 -5.09591903e-02  1.63563680e-16\n",
            "     3.50812562e-16 -6.06860239e-02]\n",
            "   [ 2.07171914e-03  6.86961222e-02  1.24533083e-01 -9.23889422e-17\n",
            "    -3.29705927e-16  1.22969373e-01]\n",
            "   [ 2.57079913e-17  1.97172021e-16  1.65847812e-16  7.58596288e-03\n",
            "     2.59420774e-17  1.46364669e-16]\n",
            "   [ 4.85047139e-17  6.56673304e-16  4.68671333e-16  1.56204529e-17\n",
            "     7.58596288e-03  8.39811845e-16]\n",
            "   [-1.59999430e-02 -9.90962252e-02  5.81960146e-01 -8.40293970e-17\n",
            "     7.86569450e-17 -4.47663569e-02]]]\n",
            "\n",
            "\n",
            " [[[-2.70619500e-16  2.31160097e-16 -6.69282453e-16  1.11539591e+00\n",
            "     1.43093295e-16  3.65536085e-16]\n",
            "   [ 3.49115386e-17 -1.45001807e-17  3.04382733e-18 -1.22985373e-02\n",
            "    -9.67139623e-19 -1.13563751e-17]\n",
            "   [-1.19966764e-17 -3.54642550e-17  4.80821716e-19 -4.28354178e-03\n",
            "    -1.11207090e-19  2.38562942e-17]\n",
            "   [ 2.58536922e-02  3.38081759e-02  1.12083197e-02  3.24305924e-17\n",
            "     4.32090058e-17 -1.03687761e-02]\n",
            "   [ 4.02532442e-18  3.86606309e-18  1.37091604e-18 -1.74253313e-17\n",
            "     1.97764666e-17 -1.40731224e-18]\n",
            "   [ 6.55025361e-18  2.96680443e-17  1.31882005e-17  4.10551212e-03\n",
            "    -7.93016610e-19  1.12888578e-17]]\n",
            "\n",
            "  [[ 3.49214269e-17 -1.48235941e-17  3.13519729e-18 -1.22985373e-02\n",
            "    -1.11689670e-18 -1.24736424e-17]\n",
            "   [-2.48400877e-17  2.79420172e-17 -4.33288344e-16  7.77829097e-01\n",
            "     9.79665245e-17  9.97393743e-17]\n",
            "   [-3.47962595e-17 -9.56173694e-17 -9.58022414e-17  4.78181725e-02\n",
            "    -2.58407762e-18  1.95957212e-16]\n",
            "   [ 3.38081759e-02  1.56942623e-01  4.03035161e-02  2.90041255e-16\n",
            "     1.67714670e-16 -4.16508161e-02]\n",
            "   [ 5.00715355e-18  2.14088175e-17  1.28574792e-18  3.91733415e-16\n",
            "     7.06712981e-17 -4.16201788e-18]\n",
            "   [ 2.51812469e-17  2.09398375e-17  1.89850497e-16 -1.21924948e-01\n",
            "    -3.78192031e-18 -8.00514878e-17]]\n",
            "\n",
            "  [[-1.20542857e-17 -3.46399421e-17  1.10898941e-18 -4.28354178e-03\n",
            "     2.39561413e-19  2.42510464e-17]\n",
            "   [-3.49101510e-17 -9.25036612e-17 -9.52272766e-17  4.78181725e-02\n",
            "    -1.61907029e-18  1.91897995e-16]\n",
            "   [-3.18919220e-17 -9.34358166e-18 -3.96335948e-16  7.25741700e-01\n",
            "     1.11861239e-16  1.41105264e-16]\n",
            "   [ 1.12083197e-02  4.03035161e-02  5.15571898e-02 -4.83408672e-16\n",
            "    -2.37363395e-17  7.58596288e-03]\n",
            "   [ 1.53217650e-18  7.98749667e-19  2.71764843e-17 -4.94485442e-16\n",
            "     6.11937757e-18  3.06026926e-18]\n",
            "   [ 2.25483865e-17  1.86826027e-16 -6.58634517e-17  1.36326286e-01\n",
            "     2.30374392e-17  1.67388674e-16]]\n",
            "\n",
            "  [[ 2.58536922e-02  3.38081759e-02  1.12083197e-02  3.24719278e-17\n",
            "     4.32190177e-17 -1.03687761e-02]\n",
            "   [ 3.38081759e-02  1.56942623e-01  4.03035161e-02  2.92426688e-16\n",
            "     1.67595053e-16 -4.16508161e-02]\n",
            "   [ 1.12083197e-02  4.03035161e-02  5.15571898e-02 -4.71533398e-16\n",
            "    -2.45829145e-17  7.58596288e-03]\n",
            "   [ 3.23709791e-17  2.91723796e-16 -4.73469853e-16  8.80159093e-01\n",
            "     1.21251034e-16  1.57614673e-16]\n",
            "   [ 4.31861021e-17  1.67263836e-16 -2.24803743e-17  1.13179590e-16\n",
            "     4.74444451e-02  9.01624272e-17]\n",
            "   [-1.03687761e-02 -4.16508161e-02  7.58596288e-03  1.34875015e-16\n",
            "     8.05469627e-17  2.41407920e-02]]\n",
            "\n",
            "  [[ 3.28693601e-18  4.03012375e-18  1.27685029e-18 -1.77235560e-17\n",
            "     1.97891120e-17 -1.37005235e-18]\n",
            "   [ 4.78501983e-18  2.10754413e-17  8.35352143e-19  3.85476770e-16\n",
            "     7.01834544e-17 -4.37104128e-18]\n",
            "   [ 1.38987320e-18  7.94904322e-20  2.60803570e-17 -4.36128689e-16\n",
            "     7.71103646e-18  1.35266330e-18]\n",
            "   [ 4.31833198e-17  1.68403284e-16 -2.68784857e-17  1.05996565e-16\n",
            "     4.74444451e-02  8.96853272e-17]\n",
            "   [-7.61949810e-18  1.33687770e-16 -4.00859650e-16  7.85270203e-01\n",
            "     1.11053341e-16  2.00663909e-16]\n",
            "   [-9.04689215e-19 -1.06635924e-17  2.78936089e-17  9.54324159e-16\n",
            "     2.72067370e-17  2.64435839e-18]]\n",
            "\n",
            "  [[ 6.31178321e-18  3.10763380e-17  1.20541072e-17  4.10551212e-03\n",
            "    -1.84419945e-18  9.73279605e-18]\n",
            "   [ 2.58344131e-17  2.33551974e-17  1.88255260e-16 -1.21924948e-01\n",
            "    -9.85970881e-18 -6.88640137e-17]\n",
            "   [ 2.14188635e-17  1.89124825e-16 -6.36822920e-17  1.36326286e-01\n",
            "     3.09500969e-17  1.63458276e-16]\n",
            "   [-1.03687761e-02 -4.16508161e-02  7.58596288e-03  1.36090024e-16\n",
            "     8.38473007e-17  2.41407920e-02]\n",
            "   [-9.35905938e-19 -9.03914220e-18  2.40043956e-17  8.42395238e-16\n",
            "     2.95575263e-17 -3.38987586e-18]\n",
            "   [-2.44831468e-17 -1.23587548e-16 -1.09716255e-16  5.54511357e-01\n",
            "     1.22007454e-16 -1.09457520e-16]]]\n",
            "\n",
            "\n",
            " [[[-6.49306819e-16  7.95307793e-16 -9.42617257e-16  1.40453242e-16\n",
            "     1.11539591e+00  1.57673494e-15]\n",
            "   [ 1.01362157e-16 -2.25403905e-17  1.34080342e-17 -1.82085373e-18\n",
            "    -1.22985373e-02 -4.56189825e-17]\n",
            "   [-2.22712721e-17 -6.71686171e-17 -6.43081990e-18 -6.75548623e-19\n",
            "    -4.28354178e-03  5.03014012e-17]\n",
            "   [ 2.72746275e-18  4.55230753e-18  9.34555631e-19  4.31939373e-17\n",
            "    -7.52271582e-18 -1.31495739e-18]\n",
            "   [ 2.58536922e-02  3.38081759e-02  1.12083197e-02  1.97718999e-17\n",
            "     6.85417885e-17 -1.03687761e-02]\n",
            "   [ 3.42711873e-17  1.09543675e-16  3.36809585e-17  3.90621567e-19\n",
            "     4.10551212e-03  1.72702712e-17]]\n",
            "\n",
            "  [[ 1.01453948e-16 -2.20710985e-17  1.33207476e-17 -1.92683896e-18\n",
            "    -1.22985373e-02 -4.15673632e-17]\n",
            "   [-1.11014177e-17  2.98507363e-16 -4.11158141e-16  1.12790139e-16\n",
            "     7.77829097e-01  5.72362405e-16]\n",
            "   [-7.60403631e-17 -6.04980649e-17 -2.56831541e-16  4.92383577e-18\n",
            "     4.78181725e-02  6.49575172e-16]\n",
            "   [ 3.95998603e-18  2.09052498e-17  2.05317846e-18  1.67037700e-16\n",
            "     1.26926180e-16 -4.17581420e-18]\n",
            "   [ 3.38081759e-02  1.56942623e-01  4.03035161e-02  6.99785747e-17\n",
            "     7.31853485e-16 -4.16508161e-02]\n",
            "   [ 1.05050498e-16  2.36313582e-16  3.90868844e-16 -1.19340698e-17\n",
            "    -1.21924948e-01 -5.93172562e-16]]\n",
            "\n",
            "  [[-2.31624686e-17 -6.79842497e-17 -1.03535096e-17 -4.42278077e-19\n",
            "    -4.28354178e-03  5.36968796e-17]\n",
            "   [-7.55673495e-17 -6.63400190e-17 -2.70484306e-16  5.84751139e-18\n",
            "     4.78181725e-02  6.62431244e-16]\n",
            "   [-6.15668106e-17  6.50820034e-17 -4.77931951e-16  1.10360672e-16\n",
            "     7.25741700e-01  4.70300551e-16]\n",
            "   [ 1.07686338e-18  3.30315303e-18  1.43269157e-17 -2.22967537e-17\n",
            "    -4.10499218e-16  9.19487608e-18]\n",
            "   [ 1.12083197e-02  4.03035161e-02  5.15571898e-02  9.53564355e-18\n",
            "    -5.98683119e-16  7.58596288e-03]\n",
            "   [ 4.30369072e-17  5.06415069e-16 -2.59465446e-16  1.47734514e-17\n",
            "     1.36326286e-01  7.72470881e-16]]\n",
            "\n",
            "  [[ 2.97419274e-18  5.01582561e-18  1.31816293e-18  4.32026232e-17\n",
            "    -7.53014713e-18 -1.54888712e-18]\n",
            "   [ 3.87589336e-18  2.37968835e-17  2.30688787e-18  1.66930465e-16\n",
            "     1.33072228e-16 -8.22130294e-18]\n",
            "   [ 9.36306733e-19  3.25030331e-18  1.59667154e-17 -2.12766190e-17\n",
            "    -4.05177071e-16  1.04086311e-17]\n",
            "   [-1.73223195e-17  3.77315797e-16 -4.69028079e-16  1.08997953e-16\n",
            "     7.85270203e-01  8.30344735e-16]\n",
            "   [ 1.97805376e-17  6.99339553e-17  7.65841892e-18  4.74444451e-02\n",
            "     1.13149897e-16  2.59326436e-17]\n",
            "   [-3.69820877e-19 -9.90676146e-18  1.95077405e-17  8.25754919e-17\n",
            "     1.74538564e-16  5.81997527e-18]]\n",
            "\n",
            "  [[ 2.58536922e-02  3.38081759e-02  1.12083197e-02  1.97814677e-17\n",
            "     6.88046481e-17 -1.03687761e-02]\n",
            "   [ 3.38081759e-02  1.56942623e-01  4.03035161e-02  6.95810450e-17\n",
            "     7.16198702e-16 -4.16508161e-02]\n",
            "   [ 1.12083197e-02  4.03035161e-02  5.15571898e-02  1.05410163e-17\n",
            "    -4.80905269e-16  7.58596288e-03]\n",
            "   [ 1.97801583e-17  6.96089722e-17  8.65261021e-18  4.74444451e-02\n",
            "     1.09339592e-16  2.55212959e-17]\n",
            "   [ 6.88166024e-17  6.98246340e-16 -4.34236348e-16  9.94239339e-17\n",
            "     8.80159093e-01  1.06842653e-15]\n",
            "   [-1.03687761e-02 -4.16508161e-02  7.58596288e-03  2.88360505e-17\n",
            "     1.12002502e-15  2.41407920e-02]]\n",
            "\n",
            "  [[ 3.27387114e-17  1.07666898e-16  3.69086878e-17 -2.70146672e-19\n",
            "     4.10551212e-03  1.88578845e-17]\n",
            "   [ 1.01813891e-16  2.20671281e-16  4.32479294e-16 -1.80558333e-17\n",
            "    -1.21924948e-01 -5.53673195e-16]\n",
            "   [ 4.16087073e-17  5.14746064e-16 -2.82714689e-16  2.20516268e-17\n",
            "     1.36326286e-01  7.27690705e-16]\n",
            "   [-2.72996253e-19 -1.13897483e-17  2.21320219e-17  8.54665981e-17\n",
            "     1.63845600e-16  1.18771457e-17]\n",
            "   [-1.03687761e-02 -4.16508161e-02  7.58596288e-03  3.06025441e-17\n",
            "     1.06443984e-15  2.41407920e-02]\n",
            "   [-7.27704580e-17 -3.84579316e-16  3.42407016e-17  1.28056977e-16\n",
            "     5.54511357e-01 -7.32149590e-16]]]\n",
            "\n",
            "\n",
            " [[[ 1.59790984e-01 -2.42118626e-01  2.65843254e-01  3.50922307e-16\n",
            "     1.54910591e-15  7.34481338e-01]\n",
            "   [-2.66865302e-02  4.54101197e-03 -5.34487452e-03 -5.56125230e-18\n",
            "    -5.02279753e-17 -5.21692816e-03]\n",
            "   [ 6.40512562e-03  1.65509332e-02  2.07171914e-03  2.77598379e-17\n",
            "     4.83576654e-17 -1.59999430e-02]\n",
            "   [ 6.35166669e-18  2.64701220e-17  2.25641969e-17 -1.03687761e-02\n",
            "    -1.24779321e-18 -2.19262667e-17]\n",
            "   [ 3.29056435e-17  1.01745696e-16  4.56504700e-17 -1.19047181e-18\n",
            "    -1.03687761e-02 -6.99681848e-17]\n",
            "   [ 2.11708054e-02  8.74204002e-03  4.81053325e-03  6.92051444e-18\n",
            "     2.42507595e-17 -8.28037465e-03]]\n",
            "\n",
            "  [[-2.66865302e-02  4.54101197e-03 -5.34487452e-03 -3.88734973e-18\n",
            "    -4.34725205e-17 -5.21692816e-03]\n",
            "   [-2.69295995e-03 -1.20862414e-01  1.01782960e-01  1.16289715e-16\n",
            "     5.71112516e-16  6.12883783e-01]\n",
            "   [ 2.03747148e-02  2.11790621e-02  6.86961222e-02  2.01767629e-16\n",
            "     6.55732492e-16 -9.90962252e-02]\n",
            "   [ 3.16533799e-17  3.03953022e-17  1.94519184e-16 -4.16508161e-02\n",
            "    -5.96554572e-18 -1.04056778e-16]\n",
            "   [ 1.10797372e-16  2.26607737e-16  4.88456416e-16 -1.61325005e-18\n",
            "    -4.16508161e-02 -4.38852730e-16]\n",
            "   [ 8.74204002e-03  8.19731113e-02 -6.06860239e-02 -9.83756248e-17\n",
            "    -5.80789640e-16 -1.95498046e-02]]\n",
            "\n",
            "  [[ 6.40512562e-03  1.65509332e-02  2.07171914e-03  2.75249849e-17\n",
            "     5.01971136e-17 -1.59999430e-02]\n",
            "   [ 2.03747148e-02  2.11790621e-02  6.86961222e-02  1.95393844e-16\n",
            "     6.65560022e-16 -9.90962252e-02]\n",
            "   [ 1.41651559e-02 -5.09591903e-02  1.24533083e-01  1.49138030e-16\n",
            "     4.09334753e-16  5.81960146e-01]\n",
            "   [ 1.30176489e-17  1.58347816e-16 -7.87606580e-17  7.58596288e-03\n",
            "     2.14392976e-17 -1.24839847e-16]\n",
            "   [ 3.76018590e-17  4.54829392e-16 -3.04261506e-16  1.61260385e-18\n",
            "     7.58596288e-03  2.60108186e-16]\n",
            "   [ 4.81053325e-03 -6.06860239e-02  1.22969373e-01  1.61506888e-16\n",
            "     7.46611833e-16 -4.47663569e-02]]\n",
            "\n",
            "  [[ 6.28710606e-18  2.60113011e-17  2.17155983e-17 -1.03687761e-02\n",
            "    -1.32145726e-18 -2.31648587e-17]\n",
            "   [ 3.16107991e-17  2.71919214e-17  1.94076416e-16 -4.16508161e-02\n",
            "    -9.61618763e-18 -1.14249089e-16]\n",
            "   [ 1.28676786e-17  1.68822477e-16 -7.63127504e-17  7.58596288e-03\n",
            "     2.06869900e-17 -1.33413485e-16]\n",
            "   [ 4.10551212e-03 -1.21924948e-01  1.36326286e-01  1.38422699e-16\n",
            "     8.28063414e-16  5.54511357e-01]\n",
            "   [-6.01689798e-19 -2.43349417e-17  1.83694863e-17  9.16838811e-17\n",
            "     2.54903150e-17  9.58195556e-17]\n",
            "   [ 4.58740607e-18 -1.14276850e-16  1.56000871e-16  2.41407920e-02\n",
            "     1.32494264e-17 -1.12502699e-16]]\n",
            "\n",
            "  [[ 3.27513525e-17  9.73341757e-17  4.22874912e-17 -1.21740054e-18\n",
            "    -1.03687761e-02 -6.00572794e-17]\n",
            "   [ 1.06713913e-16  2.28057045e-16  5.21553563e-16 -3.84786229e-18\n",
            "    -4.16508161e-02 -4.34245988e-16]\n",
            "   [ 3.96274832e-17  4.70078368e-16 -2.85224213e-16 -5.69998590e-20\n",
            "     7.58596288e-03  2.42143509e-16]\n",
            "   [-6.13296140e-19 -2.36706638e-17  1.81212687e-17  9.00538662e-17\n",
            "     2.50939985e-17  8.49278201e-17]\n",
            "   [ 4.10551212e-03 -1.21924948e-01  1.36326286e-01  2.12532377e-16\n",
            "     1.00336012e-15  5.54511357e-01]\n",
            "   [ 1.05071992e-17 -5.28669534e-16  8.06737969e-16 -5.93935049e-18\n",
            "     2.41407920e-02 -5.73782217e-16]]\n",
            "\n",
            "  [[ 2.11708054e-02  8.74204002e-03  4.81053325e-03  5.50703683e-18\n",
            "     2.31967702e-17 -8.28037465e-03]\n",
            "   [ 8.74204002e-03  8.19731113e-02 -6.06860239e-02 -8.49577379e-17\n",
            "    -5.15946816e-16 -1.95498046e-02]\n",
            "   [ 4.81053325e-03 -6.06860239e-02  1.22969373e-01  1.66107346e-16\n",
            "     6.92573982e-16 -4.47663569e-02]\n",
            "   [ 5.57009500e-18 -8.83714913e-17  1.60242457e-16  2.41407920e-02\n",
            "     1.32670838e-17 -1.20448451e-16]\n",
            "   [ 1.84839901e-17 -5.08842247e-16  7.98178481e-16 -9.73156584e-18\n",
            "     2.41407920e-02 -6.21435421e-16]\n",
            "   [-8.28037465e-03 -1.95498046e-02 -4.47663569e-02 -9.75979038e-17\n",
            "    -7.18098498e-16  7.04304126e-01]]]]\n"
          ]
        }
      ],
      "source": [
        "hamiltonian = qmolecule.hamiltonian\n",
        "coefficients = hamiltonian.electronic_integrals\n",
        "print(coefficients.alpha)\n",
        "second_q_op = hamiltonian.second_q_op()"
      ]
    },
    {
      "cell_type": "code",
      "source": [
        "mapper = JordanWignerMapper()\n",
        "converter = QubitConverter(mapper=mapper, two_qubit_reduction=False)\n",
        "qubit_op = converter.convert(second_q_op)"
      ],
      "metadata": {
        "colab": {
          "base_uri": "https://localhost:8080/"
        },
        "id": "zLhtOziW8xCC",
        "outputId": "dcbc648d-bb62-436d-cdcb-a853e86c0c51"
      },
      "execution_count": 5,
      "outputs": [
        {
          "output_type": "stream",
          "name": "stderr",
          "text": [
            "<ipython-input-5-60b4e97714fb>:2: DeprecationWarning: The QubitConverter class is deprecated as of version 0.6.0 and will be removed no sooner than 3 months after the release . Instead you should directly use the QubitMapper instance which you used to pass into the QubitConverter as the first argument. Refer to the documentation of the qiskit_nature.second_q.mappers module for more information.\n",
            "  converter = QubitConverter(mapper=mapper, two_qubit_reduction=False)\n",
            "/usr/local/lib/python3.10/dist-packages/qiskit_nature/deprecation.py:297: PauliSumOpDeprecationWarning: PauliSumOp is deprecated as of version 0.6.0 and support for them will be removed no sooner than 3 months after the release. Instead, use SparsePauliOp. You can switch to SparsePauliOp immediately, by setting `qiskit_nature.settings.use_pauli_sum_op` to `False`.\n",
            "  return func(*args, **kwargs)\n"
          ]
        }
      ]
    },
    {
      "cell_type": "markdown",
      "source": [
        "We recommend to use classical minimum eigensolver to obtain a reference energy at this step. In case some of the classical minimum eigensolver donot directly gives nuclear repulsion energy, we give reference energies below: *Comupted Energy*: -78.75252123, *Nuclear Repulsion_energy*: 4.36537496654537. *Obtained Reference Ground State Energy*: -74.38714627."
      ],
      "metadata": {
        "id": "rAQ3oSvbKFIU"
      }
    },
    {
      "cell_type": "code",
      "execution_count": 6,
      "metadata": {
        "id": "gZQaJ8T441s7"
      },
      "outputs": [],
      "source": [
        "from qiskit.algorithms.minimum_eigensolvers import NumPyMinimumEigensolver\n",
        "from qiskit_nature.second_q.algorithms import GroundStateEigensolver\n",
        "\n",
        "solver = GroundStateEigensolver(\n",
        "    JordanWignerMapper(),\n",
        "    NumPyMinimumEigensolver(),\n",
        ")"
      ]
    },
    {
      "cell_type": "code",
      "execution_count": 7,
      "metadata": {
        "colab": {
          "base_uri": "https://localhost:8080/"
        },
        "id": "CzsPX9Fg42zY",
        "outputId": "57ff628a-9fb8-479d-af26-fb644d807202"
      },
      "outputs": [
        {
          "output_type": "stream",
          "name": "stdout",
          "text": [
            "[-78.75252123]\n"
          ]
        }
      ],
      "source": [
        "result = solver.solve(qmolecule)\n",
        "print(result.computed_energies)"
      ]
    },
    {
      "cell_type": "code",
      "source": [
        "print(result.nuclear_repulsion_energy)"
      ],
      "metadata": {
        "colab": {
          "base_uri": "https://localhost:8080/"
        },
        "id": "zP_A04usULdu",
        "outputId": "b09f2d22-4a51-4f60-a4f5-5d83b0b9477a"
      },
      "execution_count": 8,
      "outputs": [
        {
          "output_type": "stream",
          "name": "stdout",
          "text": [
            "4.36537496654537\n"
          ]
        }
      ]
    },
    {
      "cell_type": "code",
      "source": [
        "ref_value = result.computed_energies + result.nuclear_repulsion_energy\n",
        "print(ref_value)"
      ],
      "metadata": {
        "colab": {
          "base_uri": "https://localhost:8080/"
        },
        "id": "CjUk5SkJUQkn",
        "outputId": "925ff152-1a4f-4cb0-f3f2-cbe3798562be"
      },
      "execution_count": 9,
      "outputs": [
        {
          "output_type": "stream",
          "name": "stdout",
          "text": [
            "[-74.38714627]\n"
          ]
        }
      ]
    },
    {
      "cell_type": "markdown",
      "source": [
        "## Construct Ansatz"
      ],
      "metadata": {
        "id": "7FoppB2vK3Pb"
      }
    },
    {
      "cell_type": "markdown",
      "source": [
        "At this stage, you can implement various techniques to search good ansatz architecture which is important for variational quantum algorihms. Moreover, how to obtain a good initial state is a good topic to do research, we require participant to self-reflection there techniques (include the techniques for preprocessing ansatz or initial states) with maximum 10 points, and submit a short description for used techniques, we will have three graders to evaluate the techniques."
      ],
      "metadata": {
        "id": "FXhkX--4LLjy"
      }
    },
    {
      "cell_type": "code",
      "source": [
        "ansatz = UCCSD(\n",
        "    qmolecule.num_spatial_orbitals,\n",
        "    qmolecule.num_particles,\n",
        "    mapper,\n",
        "    initial_state=HartreeFock(\n",
        "        qmolecule.num_spatial_orbitals,\n",
        "        qmolecule.num_particles,\n",
        "        mapper,\n",
        "    ),\n",
        ")\n"
      ],
      "metadata": {
        "id": "TR3cvipPWCQ5"
      },
      "execution_count": 10,
      "outputs": []
    },
    {
      "cell_type": "code",
      "source": [
        "from qiskit_nature.second_q.algorithms import GroundStateEigensolver"
      ],
      "metadata": {
        "id": "HAepMEuOyygR"
      },
      "execution_count": 11,
      "outputs": []
    },
    {
      "cell_type": "code",
      "source": [
        "estimator = Estimator(\n",
        "    backend_options = {\n",
        "        'method': 'statevector',\n",
        "        'device': 'GPU'\n",
        "        # 'noise_model': noise_model\n",
        "    },\n",
        "    run_options = {\n",
        "        'shots': shot,\n",
        "        'seed': seeds,\n",
        "    },\n",
        "    transpile_options = {\n",
        "        'seed_transpiler':seed_transpiler\n",
        "    }\n",
        ")"
      ],
      "metadata": {
        "id": "vzVDjGNVfWA8"
      },
      "execution_count": 20,
      "outputs": []
    },
    {
      "cell_type": "code",
      "source": [
        "vqe_solver = VQE(estimator, ansatz, SLSQP())\n",
        "vqe_solver.initial_point = [0.0] * ansatz.num_parameters"
      ],
      "metadata": {
        "id": "37uQ745tydW3"
      },
      "execution_count": 21,
      "outputs": []
    },
    {
      "cell_type": "code",
      "source": [
        "calc = GroundStateEigensolver(mapper, vqe_solver)\n",
        "res = calc.solve(qmolecule)\n",
        "print(res)"
      ],
      "metadata": {
        "colab": {
          "base_uri": "https://localhost:8080/"
        },
        "id": "HiJ4ojaDy38R",
        "outputId": "5cdb012c-8e39-4112-9605-ae60821e7ca2"
      },
      "execution_count": 39,
      "outputs": [
        {
          "output_type": "stream",
          "name": "stdout",
          "text": [
            "=== GROUND STATE ENERGY ===\n",
            " \n",
            "* Electronic ground state energy (Hartree): -78.318374453615\n",
            "  - computed part:      -78.318374453615\n",
            "~ Nuclear repulsion energy (Hartree): 4.365374966545\n",
            "> Total ground state energy (Hartree): -73.952999487069\n",
            " \n",
            "=== MEASURED OBSERVABLES ===\n",
            " \n",
            "  0:  # Particles: 8.000 S: 0.000 S^2: 0.000 M: -0.000\n",
            " \n",
            "=== DIPOLE MOMENTS ===\n",
            " \n",
            "~ Nuclear dipole moment (a.u.): [0.85037676  -0.28818323  -1.59757447]\n",
            " \n",
            "  0: \n",
            "  * Electronic dipole moment (a.u.): [0.39515867568  -0.133932189247  -0.742341180385]\n",
            "    - computed part:      [0.39515867568  -0.133932189247  -0.742341180385]\n",
            "  > Dipole moment (a.u.): [0.45521808432  -0.154251040753  -0.855233289615]  Total: 0.981040706358\n",
            "                 (debye): [1.157048850129  -0.392067001471  -2.173785990552]  Total: 2.493556517897\n",
            " \n"
          ]
        }
      ]
    },
    {
      "cell_type": "markdown",
      "source": [
        "## Calculate the Accuracy (Most Important Metric)"
      ],
      "metadata": {
        "id": "vNP5HcDxlq-d"
      }
    },
    {
      "cell_type": "code",
      "source": [
        "accuracy = res / ref_value\n",
        "print(accuracy)"
      ],
      "metadata": {
        "colab": {
          "base_uri": "https://localhost:8080/"
        },
        "id": "qbP7CkZxlh8X",
        "outputId": "0d85b95a-4eba-4830-e98c-283a86f9f683"
      },
      "execution_count": 39,
      "outputs": [
        {
          "output_type": "stream",
          "name": "stdout",
          "text": [
            "[0.99416369]\n"
          ]
        }
      ]
    },
    {
      "cell_type": "markdown",
      "source": [
        "## Obtain the Duration of Quantum Circuit"
      ],
      "metadata": {
        "id": "hw8SxNyclYyT"
      }
    },
    {
      "cell_type": "code",
      "source": [
        "from qiskit.providers.fake_provider import *\n",
        "backend = FakeMontreal()"
      ],
      "metadata": {
        "id": "3TBtAF24iuFD"
      },
      "execution_count": 26,
      "outputs": []
    },
    {
      "cell_type": "code",
      "source": [
        "with pulse.build(backend) as my_program1:\n",
        "  pulse.call(ansatz)"
      ],
      "metadata": {
        "id": "_julUiabi5iI"
      },
      "execution_count": 28,
      "outputs": []
    },
    {
      "cell_type": "code",
      "source": [
        "my_program1.duration"
      ],
      "metadata": {
        "colab": {
          "base_uri": "https://localhost:8080/"
        },
        "id": "E3jGzVpNkT00",
        "outputId": "01595668-7f90-44de-d2b5-cbac21f44497"
      },
      "execution_count": 36,
      "outputs": [
        {
          "output_type": "execute_result",
          "data": {
            "text/plain": [
              "19859872"
            ]
          },
          "metadata": {},
          "execution_count": 36
        }
      ]
    }
  ],
  "metadata": {
    "colab": {
      "provenance": []
    },
    "kernelspec": {
      "display_name": "Python 3",
      "name": "python3"
    },
    "language_info": {
      "name": "python"
    }
  },
  "nbformat": 4,
  "nbformat_minor": 0
}