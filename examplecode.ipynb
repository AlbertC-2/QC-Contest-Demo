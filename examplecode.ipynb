{
  "cells": [
    {
      "cell_type": "markdown",
      "source": [
        "# Example Code for Estimating the Ground State Energy of Hydroxyl (·OH)"
      ],
      "metadata": {
        "id": "gj3jZbCBSn71"
      }
    },
    {
      "cell_type": "markdown",
      "source": [
        "## Basic Installation"
      ],
      "metadata": {
        "id": "54NH9S1vHrq8"
      }
    },
    {
      "cell_type": "markdown",
      "source": [
        "Install required package, we highly recommend participant to use qiskit platform, or at least participants can finish preprocessing at other platform and transfer the circuit to qiskit format, since our noise model is from IBM real machine backend and we restricted some algorithmic seeds which could be varied from different platform."
      ],
      "metadata": {
        "id": "R0OZ3HZZS9Me"
      }
    },
    {
      "cell_type": "code",
      "execution_count": null,
      "metadata": {
        "id": "Pi-oJxidjBSw"
      },
      "outputs": [],
      "source": [
        "!pip install qiskit\n",
        "!pip install qiskit-nature[pyscf] -U"
      ]
    },
    {
      "cell_type": "code",
      "execution_count": null,
      "metadata": {
        "id": "-kyJUxyJzk_k"
      },
      "outputs": [],
      "source": [
        "!pip install qiskit_aer"
      ]
    },
    {
      "cell_type": "code",
      "execution_count": 34,
      "metadata": {
        "id": "Ib7BjPjxvJNk"
      },
      "outputs": [],
      "source": [
        "from qiskit_nature.units import DistanceUnit\n",
        "from qiskit_nature.second_q.drivers import PySCFDriver\n",
        "from qiskit_nature.second_q.mappers import JordanWignerMapper,ParityMapper,QubitConverter\n",
        "from qiskit.algorithms.minimum_eigensolvers import VQE\n",
        "from qiskit.algorithms.optimizers import SLSQP\n",
        "from qiskit.primitives import Estimator\n",
        "from qiskit_nature.second_q.circuit.library import HartreeFock, UCCSD\n",
        "import numpy as np\n",
        "import pylab\n",
        "import qiskit.providers\n",
        "from qiskit import Aer\n",
        "from qiskit.utils import QuantumInstance, algorithm_globals"
      ]
    },
    {
      "cell_type": "markdown",
      "source": [
        "Here we require paticipants to fix the algorithm seed in qiskit. *MUST* translate other format circuit to qiskit before any place need algorithm seed. And we give 20, 21, 30, 33, 36, 42, 43, 55, 67, 170 as seeds that requires to run, and the result will be calculated as the average of results from each seed."
      ],
      "metadata": {
        "id": "QRxsKX9zTc9g"
      }
    },
    {
      "cell_type": "code",
      "source": [
        "seed = 170\n",
        "algorithm_globals.random_seed = seed\n",
        "iterations = 125"
      ],
      "metadata": {
        "id": "_z5kT9vNSWus"
      },
      "execution_count": 13,
      "outputs": []
    },
    {
      "cell_type": "markdown",
      "source": [
        "## Generate Hamiltonian and Pauli String"
      ],
      "metadata": {
        "id": "67IPjEJPJAWk"
      }
    },
    {
      "cell_type": "markdown",
      "source": [
        "At this step, the example code uses PySCF to generate the hamiltonian of hydroxyl with basis function as 'sto3g' to fit the spin orbital, then uses JordanWignerMapper to map the fermionic terms to pauli strings. To be noticed, other chemistry tool also allowed to be used at this step, but keep in mind to use 'sto-3g' and Jordan Wigner Mapper which should gives 12 qubits and 631 paulil terms."
      ],
      "metadata": {
        "id": "7TljW2BrJKHC"
      }
    },
    {
      "cell_type": "code",
      "execution_count": 3,
      "metadata": {
        "id": "kXSoiGtopCRX",
        "colab": {
          "base_uri": "https://localhost:8080/"
        },
        "outputId": "467f097a-7b29-4eb9-8fc8-5388fbd63281"
      },
      "outputs": [
        {
          "output_type": "stream",
          "name": "stderr",
          "text": [
            "/usr/local/lib/python3.10/dist-packages/pyscf/dft/libxc.py:772: UserWarning: Since PySCF-2.3, B3LYP (and B3P86) are changed to the VWN-RPA variant, the same to the B3LYP functional in Gaussian and ORCA (issue 1480). To restore the VWN5 definition, you can put the setting \"B3LYP_WITH_VWN5 = True\" in pyscf_conf.py\n",
            "  warnings.warn('Since PySCF-2.3, B3LYP (and B3P86) are changed to the VWN-RPA variant, '\n"
          ]
        }
      ],
      "source": [
        "ultra_simplified_ala_string = \"\"\"\n",
        "O 0.0 0.0 0.0\n",
        "H 0.45 -0.1525 -0.8454\n",
        "\"\"\"\n",
        "\n",
        "driver = PySCFDriver(\n",
        "    atom=ultra_simplified_ala_string.strip(),\n",
        "    basis='sto3g',\n",
        "    charge=1,\n",
        "    spin=0,\n",
        "    unit=DistanceUnit.ANGSTROM\n",
        ")\n",
        "qmolecule = driver.run()"
      ]
    },
    {
      "cell_type": "code",
      "execution_count": null,
      "metadata": {
        "id": "ojwVkSeRwTH4"
      },
      "outputs": [],
      "source": [
        "hamiltonian = qmolecule.hamiltonian\n",
        "coefficients = hamiltonian.electronic_integrals\n",
        "print(coefficients.alpha)\n",
        "second_q_op = hamiltonian.second_q_op()"
      ]
    },
    {
      "cell_type": "code",
      "source": [
        "mapper = JordanWignerMapper()\n",
        "converter = QubitConverter(mapper=mapper, two_qubit_reduction=False)\n",
        "qubit_op = converter.convert(second_q_op)"
      ],
      "metadata": {
        "id": "zLhtOziW8xCC"
      },
      "execution_count": null,
      "outputs": []
    },
    {
      "cell_type": "markdown",
      "source": [
        "We recommend to use classical minimum eigensolver to obtain a reference energy at this step. In case some of the classical minimum eigensolver donot directly gives nuclear repulsion energy, we give reference energies below: *Comupted Energy*: -78.75252123, *Nuclear Repulsion_energy*: 4.36537496654537. *Obtained Reference Ground State Energy*: -74.3871462635."
      ],
      "metadata": {
        "id": "rAQ3oSvbKFIU"
      }
    },
    {
      "cell_type": "code",
      "execution_count": 6,
      "metadata": {
        "id": "gZQaJ8T441s7"
      },
      "outputs": [],
      "source": [
        "from qiskit.algorithms.minimum_eigensolvers import NumPyMinimumEigensolver\n",
        "from qiskit_nature.second_q.algorithms import GroundStateEigensolver\n",
        "\n",
        "solver = GroundStateEigensolver(\n",
        "    JordanWignerMapper(),\n",
        "    NumPyMinimumEigensolver(),\n",
        ")"
      ]
    },
    {
      "cell_type": "code",
      "execution_count": 15,
      "metadata": {
        "colab": {
          "base_uri": "https://localhost:8080/"
        },
        "id": "CzsPX9Fg42zY",
        "outputId": "7da595f2-645b-4ec3-9603-4c1a01377ff5"
      },
      "outputs": [
        {
          "output_type": "stream",
          "name": "stdout",
          "text": [
            "[-78.75252123]\n"
          ]
        }
      ],
      "source": [
        "result = solver.solve(qmolecule)\n",
        "print(result.computed_energies)"
      ]
    },
    {
      "cell_type": "code",
      "source": [
        "print(result.nuclear_repulsion_energy)"
      ],
      "metadata": {
        "colab": {
          "base_uri": "https://localhost:8080/"
        },
        "id": "zP_A04usULdu",
        "outputId": "326686b4-ee16-46fe-bfe5-691f5e508543"
      },
      "execution_count": 17,
      "outputs": [
        {
          "output_type": "stream",
          "name": "stdout",
          "text": [
            "4.36537496654537\n"
          ]
        }
      ]
    },
    {
      "cell_type": "code",
      "source": [
        "ref_value = result.computed_energies + result.nuclear_repulsion_energy"
      ],
      "metadata": {
        "id": "CjUk5SkJUQkn"
      },
      "execution_count": 18,
      "outputs": []
    },
    {
      "cell_type": "markdown",
      "source": [
        "## Construct Ansatz"
      ],
      "metadata": {
        "id": "7FoppB2vK3Pb"
      }
    },
    {
      "cell_type": "markdown",
      "source": [
        "At this stage, you can implement various techniques to search good ansatz architecture which is important for variational quantum algorihms. Moreover, how to obtain a good initial state is a good topic to do research, we require participant to self-reflection there techniques (include the techniques for preprocessing ansatz or initial states) with maximum 10 points, and submit a short description for used techniques, we will have three graders to evaluate the techniques."
      ],
      "metadata": {
        "id": "FXhkX--4LLjy"
      }
    },
    {
      "cell_type": "code",
      "source": [
        "ansatz = UCCSD(\n",
        "    qmolecule.num_spatial_orbitals,\n",
        "    qmolecule.num_particles,\n",
        "    mapper,\n",
        "    initial_state=HartreeFock(\n",
        "        qmolecule.num_spatial_orbitals,\n",
        "        qmolecule.num_particles,\n",
        "        mapper,\n",
        "    ),\n",
        ")\n"
      ],
      "metadata": {
        "id": "TR3cvipPWCQ5"
      },
      "execution_count": 35,
      "outputs": []
    },
    {
      "cell_type": "code",
      "source": [
        "from qiskit_nature.second_q.algorithms import GroundStateEigensolver\n",
        "\n",
        "calc = GroundStateEigensolver(mapper, vqe_solver)"
      ],
      "metadata": {
        "id": "HAepMEuOyygR"
      },
      "execution_count": 37,
      "outputs": []
    },
    {
      "cell_type": "code",
      "source": [
        "vqe_solver = VQE(Estimator(), ansatz, SLSQP())\n",
        "vqe_solver.initial_point = [0.0] * ansatz.num_parameters"
      ],
      "metadata": {
        "id": "37uQ745tydW3"
      },
      "execution_count": 36,
      "outputs": []
    },
    {
      "cell_type": "code",
      "source": [
        "res = calc.solve(qmolecule)\n",
        "print(res)"
      ],
      "metadata": {
        "colab": {
          "base_uri": "https://localhost:8080/"
        },
        "id": "HiJ4ojaDy38R",
        "outputId": "5cdb012c-8e39-4112-9605-ae60821e7ca2"
      },
      "execution_count": 39,
      "outputs": [
        {
          "output_type": "stream",
          "name": "stdout",
          "text": [
            "=== GROUND STATE ENERGY ===\n",
            " \n",
            "* Electronic ground state energy (Hartree): -78.318374453615\n",
            "  - computed part:      -78.318374453615\n",
            "~ Nuclear repulsion energy (Hartree): 4.365374966545\n",
            "> Total ground state energy (Hartree): -73.952999487069\n",
            " \n",
            "=== MEASURED OBSERVABLES ===\n",
            " \n",
            "  0:  # Particles: 8.000 S: 0.000 S^2: 0.000 M: -0.000\n",
            " \n",
            "=== DIPOLE MOMENTS ===\n",
            " \n",
            "~ Nuclear dipole moment (a.u.): [0.85037676  -0.28818323  -1.59757447]\n",
            " \n",
            "  0: \n",
            "  * Electronic dipole moment (a.u.): [0.39515867568  -0.133932189247  -0.742341180385]\n",
            "    - computed part:      [0.39515867568  -0.133932189247  -0.742341180385]\n",
            "  > Dipole moment (a.u.): [0.45521808432  -0.154251040753  -0.855233289615]  Total: 0.981040706358\n",
            "                 (debye): [1.157048850129  -0.392067001471  -2.173785990552]  Total: 2.493556517897\n",
            " \n"
          ]
        }
      ]
    }
  ],
  "metadata": {
    "colab": {
      "provenance": []
    },
    "kernelspec": {
      "display_name": "Python 3",
      "name": "python3"
    },
    "language_info": {
      "name": "python"
    }
  },
  "nbformat": 4,
  "nbformat_minor": 0
}